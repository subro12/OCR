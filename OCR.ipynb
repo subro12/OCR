{
 "cells": [
  {
   "cell_type": "code",
   "execution_count": 1,
   "metadata": {},
   "outputs": [
    {
     "name": "stdout",
     "output_type": "stream",
     "text": [
      "Collecting opencv-python\n",
      "  Downloading https://files.pythonhosted.org/packages/5a/af/dabae171f885ec4d9b2fe6aaf74c1d50a8d32106d840b9fb8eb0095a578d/opencv_python-4.2.0.32-cp37-cp37m-win_amd64.whl (33.0MB)\n",
      "Requirement already satisfied: numpy>=1.14.5 in c:\\users\\subbarao\\anaconda3\\lib\\site-packages (from opencv-python) (1.16.5)\n",
      "Installing collected packages: opencv-python\n",
      "Successfully installed opencv-python-4.2.0.32\n"
     ]
    }
   ],
   "source": [
    "!pip install opencv-python"
   ]
  },
  {
   "cell_type": "code",
   "execution_count": 2,
   "metadata": {},
   "outputs": [
    {
     "name": "stdout",
     "output_type": "stream",
     "text": [
      "Requirement already satisfied: imageio in c:\\users\\subbarao\\anaconda3\\lib\\site-packages (2.6.0)\n",
      "Requirement already satisfied: pillow in c:\\users\\subbarao\\anaconda3\\lib\\site-packages (from imageio) (6.2.0)\n",
      "Requirement already satisfied: numpy in c:\\users\\subbarao\\anaconda3\\lib\\site-packages (from imageio) (1.16.5)\n"
     ]
    }
   ],
   "source": [
    "!pip install imageio"
   ]
  },
  {
   "cell_type": "code",
   "execution_count": 3,
   "metadata": {},
   "outputs": [
    {
     "name": "stdout",
     "output_type": "stream",
     "text": [
      "Collecting package metadata (current_repodata.json): ...working... done\n",
      "Solving environment: ...working... failed with initial frozen solve. Retrying with flexible solve.\n",
      "Collecting package metadata (repodata.json): ...working... done\n",
      "Solving environment: ...working... failed with initial frozen solve. Retrying with flexible solve.\n",
      "\n",
      "Note: you may need to restart the kernel to use updated packages.\n"
     ]
    },
    {
     "name": "stderr",
     "output_type": "stream",
     "text": [
      "\n",
      "PackagesNotFoundError: The following packages are not available from current channels:\n",
      "\n",
      "  - pil\n",
      "\n",
      "Current channels:\n",
      "\n",
      "  - https://repo.anaconda.com/pkgs/main/win-64\n",
      "  - https://repo.anaconda.com/pkgs/main/noarch\n",
      "  - https://repo.anaconda.com/pkgs/r/win-64\n",
      "  - https://repo.anaconda.com/pkgs/r/noarch\n",
      "  - https://repo.anaconda.com/pkgs/msys2/win-64\n",
      "  - https://repo.anaconda.com/pkgs/msys2/noarch\n",
      "\n",
      "To search for alternate channels that may provide the conda package you're\n",
      "looking for, navigate to\n",
      "\n",
      "    https://anaconda.org\n",
      "\n",
      "and use the search bar at the top of the page.\n",
      "\n",
      "\n"
     ]
    }
   ],
   "source": [
    "conda install PIL"
   ]
  },
  {
   "cell_type": "code",
   "execution_count": 4,
   "metadata": {},
   "outputs": [
    {
     "name": "stdout",
     "output_type": "stream",
     "text": [
      "Collecting wand\n",
      "  Downloading https://files.pythonhosted.org/packages/ad/4a/6d4897ce1c6640c0669829d34cdf956e0829281b3f94c71effdb23bdde3c/Wand-0.5.8-py2.py3-none-any.whl (129kB)\n",
      "Installing collected packages: wand\n",
      "Successfully installed wand-0.5.8\n"
     ]
    }
   ],
   "source": [
    "!pip install wand"
   ]
  },
  {
   "cell_type": "code",
   "execution_count": 5,
   "metadata": {},
   "outputs": [
    {
     "name": "stdout",
     "output_type": "stream",
     "text": [
      "Collecting package metadata (current_repodata.json): ...working... done\n",
      "Solving environment: ...working... done\n",
      "\n",
      "## Package Plan ##\n",
      "\n",
      "  environment location: C:\\Users\\subbarao\\Anaconda3\n",
      "\n",
      "  added / updated specs:\n",
      "    - pillow\n",
      "\n",
      "\n",
      "The following packages will be downloaded:\n",
      "\n",
      "    package                    |            build\n",
      "    ---------------------------|-----------------\n",
      "    conda-4.8.2                |           py37_0         3.0 MB  conda-forge\n",
      "    ------------------------------------------------------------\n",
      "                                           Total:         3.0 MB\n",
      "\n",
      "The following packages will be UPDATED:\n",
      "\n",
      "  conda                      pkgs/main::conda-4.7.12-py37_0 --> conda-forge::conda-4.8.2-py37_0\n",
      "\n",
      "\n",
      "\n",
      "Downloading and Extracting Packages\n",
      "\n",
      "conda-4.8.2          | 3.0 MB    |            |   0% \n",
      "conda-4.8.2          | 3.0 MB    |            |   1% \n",
      "conda-4.8.2          | 3.0 MB    | 5          |   5% \n",
      "conda-4.8.2          | 3.0 MB    | #          |  10% \n",
      "conda-4.8.2          | 3.0 MB    | #3         |  14% \n",
      "conda-4.8.2          | 3.0 MB    | #8         |  18% \n",
      "conda-4.8.2          | 3.0 MB    | ##2        |  22% \n",
      "conda-4.8.2          | 3.0 MB    | ##8        |  28% \n",
      "conda-4.8.2          | 3.0 MB    | ###2       |  32% \n",
      "conda-4.8.2          | 3.0 MB    | ###7       |  38% \n",
      "conda-4.8.2          | 3.0 MB    | ####2      |  43% \n",
      "conda-4.8.2          | 3.0 MB    | #####      |  50% \n",
      "conda-4.8.2          | 3.0 MB    | #####4     |  54% \n",
      "conda-4.8.2          | 3.0 MB    | #####9     |  59% \n",
      "conda-4.8.2          | 3.0 MB    | ######3    |  63% \n",
      "conda-4.8.2          | 3.0 MB    | ######8    |  69% \n",
      "conda-4.8.2          | 3.0 MB    | #######8   |  78% \n",
      "conda-4.8.2          | 3.0 MB    | ########4  |  84% \n",
      "conda-4.8.2          | 3.0 MB    | ########9  |  90% \n",
      "conda-4.8.2          | 3.0 MB    | #########4 |  95% \n",
      "conda-4.8.2          | 3.0 MB    | ########## | 100% \n",
      "Preparing transaction: ...working... done\n",
      "Verifying transaction: ...working... done\n",
      "Executing transaction: ...working... done\n",
      "\n",
      "Note: you may need to restart the kernel to use updated packages.\n"
     ]
    },
    {
     "name": "stderr",
     "output_type": "stream",
     "text": [
      "\n",
      "\n",
      "==> WARNING: A newer version of conda exists. <==\n",
      "  current version: 4.7.12\n",
      "  latest version: 4.8.2\n",
      "\n",
      "Please update conda by running\n",
      "\n",
      "    $ conda update -n base -c defaults conda\n",
      "\n",
      "\n"
     ]
    }
   ],
   "source": [
    "conda install -c conda-forge pillow"
   ]
  },
  {
   "cell_type": "code",
   "execution_count": 6,
   "metadata": {},
   "outputs": [
    {
     "name": "stdout",
     "output_type": "stream",
     "text": [
      "Collecting pyocr\n",
      "  Downloading https://files.pythonhosted.org/packages/86/17/5fa0edc8da817a7da0198f03319850cb36cf2f20a38b6c7616fcb36211ef/pyocr-0.7.2.tar.gz (65kB)\n",
      "Requirement already satisfied: Pillow in c:\\users\\subbarao\\anaconda3\\lib\\site-packages (from pyocr) (6.2.0)\n",
      "Building wheels for collected packages: pyocr\n",
      "  Building wheel for pyocr (setup.py): started\n",
      "  Building wheel for pyocr (setup.py): finished with status 'done'\n",
      "  Created wheel for pyocr: filename=pyocr-0.7.2-cp37-none-any.whl size=36503 sha256=00921c7865c047a5e8323a0e225303cc91658e8682b2b7608c02b5e00f8cd04e\n",
      "  Stored in directory: C:\\Users\\subbarao\\AppData\\Local\\pip\\Cache\\wheels\\39\\db\\0f\\e6d07dbdd818bf371b7329b01327752cb1bea4b73b8e2ff9ed\n",
      "Successfully built pyocr\n",
      "Installing collected packages: pyocr\n",
      "Successfully installed pyocr-0.7.2\n"
     ]
    }
   ],
   "source": [
    "!pip install pyocr"
   ]
  },
  {
   "cell_type": "code",
   "execution_count": 7,
   "metadata": {},
   "outputs": [
    {
     "name": "stdout",
     "output_type": "stream",
     "text": [
      "Collecting pytesseract\n",
      "  Downloading https://files.pythonhosted.org/packages/df/4e/42c54b4344cbcb392d949ffb0b1c1e95f03ceaa6a354c8d3aafcd470592e/pytesseract-0.3.2.tar.gz\n",
      "Requirement already satisfied: Pillow in c:\\users\\subbarao\\anaconda3\\lib\\site-packages (from pytesseract) (6.2.0)\n",
      "Building wheels for collected packages: pytesseract\n",
      "  Building wheel for pytesseract (setup.py): started\n",
      "  Building wheel for pytesseract (setup.py): finished with status 'done'\n",
      "  Created wheel for pytesseract: filename=pytesseract-0.3.2-py2.py3-none-any.whl size=13380 sha256=ba6a8cba0d8100428843259781043c657faffa0e841c5f3f8768597315406d98\n",
      "  Stored in directory: C:\\Users\\subbarao\\AppData\\Local\\pip\\Cache\\wheels\\c2\\60\\55\\ec507bce8e8ccb516954accf661ee60c8b34198fafdfb81872\n",
      "Successfully built pytesseract\n",
      "Installing collected packages: pytesseract\n",
      "Successfully installed pytesseract-0.3.2\n"
     ]
    }
   ],
   "source": [
    "!pip install pytesseract"
   ]
  },
  {
   "cell_type": "code",
   "execution_count": 7,
   "metadata": {},
   "outputs": [],
   "source": [
    "from PIL import Image as PI\n",
    "import pyocr\n",
    "import pyocr.builders\n",
    "import io"
   ]
  },
  {
   "cell_type": "code",
   "execution_count": 1,
   "metadata": {},
   "outputs": [],
   "source": [
    "from wand.image import Image"
   ]
  },
  {
   "cell_type": "code",
   "execution_count": 9,
   "metadata": {},
   "outputs": [
    {
     "name": "stdout",
     "output_type": "stream",
     "text": [
      "3.7.4 (default, Aug  9 2019, 18:34:13) [MSC v.1915 64 bit (AMD64)]\n"
     ]
    }
   ],
   "source": [
    "import sys\n",
    "print(sys.version)"
   ]
  },
  {
   "cell_type": "code",
   "execution_count": null,
   "metadata": {},
   "outputs": [],
   "source": [
    "pip install wand==0.4.5"
   ]
  },
  {
   "cell_type": "code",
   "execution_count": 2,
   "metadata": {},
   "outputs": [],
   "source": [
    "from wand.image import Image\n",
    "from PIL import Image as PI\n",
    "import pyocr\n",
    "import pyocr.builders\n",
    "import io"
   ]
  },
  {
   "cell_type": "code",
   "execution_count": 1,
   "metadata": {},
   "outputs": [],
   "source": [
    "import pytesseract"
   ]
  },
  {
   "cell_type": "code",
   "execution_count": null,
   "metadata": {},
   "outputs": [],
   "source": [
    "conda install -c conda-forge tesseract"
   ]
  },
  {
   "cell_type": "code",
   "execution_count": 9,
   "metadata": {},
   "outputs": [
    {
     "data": {
      "text/plain": [
       "'tessdata/eng'"
      ]
     },
     "execution_count": 9,
     "metadata": {},
     "output_type": "execute_result"
    }
   ],
   "source": [
    "# pyocr.get_available_tools()[0].get_available_languages()\n",
    "tool = pyocr.get_available_tools()[0]\n",
    "lang = tool.get_available_languages()[0]\n",
    "lang"
   ]
  },
  {
   "cell_type": "code",
   "execution_count": 8,
   "metadata": {},
   "outputs": [
    {
     "data": {
      "text/plain": [
       "'C:\\\\Users\\\\subbarao\\\\Downloads\\\\Contracts\\\\one.pdf'"
      ]
     },
     "execution_count": 8,
     "metadata": {},
     "output_type": "execute_result"
    }
   ],
   "source": [
    "pdf_path='C:\\\\Users\\\\subbarao\\\\Downloads\\\\Contracts\\\\one.pdf'\n",
    "pdf_path"
   ]
  },
  {
   "cell_type": "code",
   "execution_count": 10,
   "metadata": {},
   "outputs": [],
   "source": [
    "req_image = []\n",
    "final_text = []"
   ]
  },
  {
   "cell_type": "code",
   "execution_count": 11,
   "metadata": {},
   "outputs": [],
   "source": [
    "image_pdf = Image(filename=pdf_path, resolution=300)\n",
    "image_jpeg = image_pdf.convert('jpeg')"
   ]
  },
  {
   "cell_type": "code",
   "execution_count": 14,
   "metadata": {},
   "outputs": [],
   "source": [
    "for img in image_jpeg.sequence:\n",
    "    img_page = Image(image=img)\n",
    "    req_image.append(img_page.make_blob('jpeg'))"
   ]
  },
  {
   "cell_type": "code",
   "execution_count": 15,
   "metadata": {},
   "outputs": [],
   "source": [
    "for img in req_image: \n",
    "    txt = tool.image_to_string(\n",
    "        PI.open(io.BytesIO(img)),\n",
    "        lang=lang,\n",
    "        builder=pyocr.builders.TextBuilder()\n",
    "    )\n",
    "    final_text.append(txt)"
   ]
  },
  {
   "cell_type": "code",
   "execution_count": 17,
   "metadata": {},
   "outputs": [
    {
     "data": {
      "text/plain": [
       "['SENIORSCRIPT, LLC\\nPHARMACY BENEFIT MANAGEMENT SERVICES AGREEMENT\\n\\nThis Pharmacy Benefit Management (PBM) Services Agreement (the “Agreement” dated as of October\\n05, 2015, and is between Greenville Health System d/b/a Greenville Health System Senior Care, a not-for-\\nprofit organization (“Client”), and Catamaran Senior Services, LLC doing business as SeniorScript\\n(“SeniorScript”). This Agreement shall be effective as of the date set forth in the implementation\\ntimetable agreed upon by both parties and set forth in the Client profile as the effective date or if no date is\\nset forth in the Client profile, the date the first claim is processed hereunder (the “Effective Date”).\\n\\n1. Definitions.\\n\\n“Adjusted AWP Drugs” means (1) all prescription drugs (by National Drug Code\\nnumber) expressly identified in the Settlement documents as subject to the Settlement which are\\nidentified by First DataBank, Inc. and/or Medi-Span for adjustment, and (2) all prescription drugs\\n(by National Drug Code number) identified by First DataBank, Inc. and/or Medi-Span as drugs for\\n\\nwhich First DataBank, Inc. and/or Medi-Span will voluntarily adjust the Factor in conjunction\\nwith, although not mandated by, the Settlement.\\n\\n“Adjustment Date” means September 26, 2009 or such other date as First DataBank, Inc.\\n\\nand/or Medi-Span may give effect to the Settlement by adjusting the Factor for Adjusted AWP\\nDrugs.\\n\\n“Average Wholesale Price” or “AWP” means (1) for all Adjusted AWP Drugs, Identified\\nCost Source multiplied by the Pre-Settlement Factor, and (2) for all drugs other than Adjusted\\nAWP Drugs, the average wholesale price, as determined by the current edition of the Medi-Span\\n\\nMaster Drug Data Base, including supplements thereto, or any other nationally recognized\\npublication that Catamaran may designate from time to time.\\n\\n“Catamaran Inc. (“Catamaran”).” means a Texas corporation which is the parent\\ncompany of SeniorScript.\\n\\n“CMS” shall mean the Centers for Medicare and Medicaid Services.\\n\\n“Copayment” or copay means the amount which a Covered Member is required to pay\\n\\nfor a prescription in accordance with all federal or state regulation and Client policies governing\\nsuch payment.\\n\\n“Covered Member” means an individual actively enrolled in a PACE program or that is\\notherwise eligible for care by Client.\\n\\n“Direct Price” means the direct price of a prescription drug, as determined by the current\\nedition of the Medi-Span Master Drug Data Base, including supplements thereto, or any other\\nnationally recognized publication that Catamaran may designate from time to time.\\n\\n“Factor” means the number which when multiplied by the Identified Cost Source will\\nresult in the AWP for a prescription drug.\\n\\n“Identified Cost Source” means the underlying cost source such as WAC or Direct Price\\nidentified by First DataBank, Inc., Medi-Span, or any other nationally recognized publication that\\nCatamaran may designate from time to time from which AWP is derived for a prescription drug.\\n\\n“Network Pharmacy” means a pharmacy contracted and credentialed by SeniorScript and\\nauthorized to provide services to Client’s Covered Members.\\n\\n“Plan” means a drug plan created by or in conjunction with Client that describes the\\nprescription drug coverage or other pharmaceutical benefits for a Covered Member.\\n\\nPharmacy Benefit Management Services Agreement',\n",
       " 'No\\n\\nSENIORSCRIPT, LLC\\nPHARMACY BENEFIT MANAGEMENT SERVICES AGREEMENT\\n\\n“Pre-Settlement Factor” means the Factor applied to Identified Cost Source for an\\nAdjusted AWP Drug before the applicable Adjustment Date.\\n\\n“Prescription” means a lawful written, electronic or verbal order of a health care\\n\\npractitioner licensed to prescribe medication. Prescriptions may also include drugs that are\\ncommonly available and dispensed “over the counter.”\\n\\n“Settlement” means the settlement approved by the United States District Court for the\\nDistrict of Massachusetts in the New England Carpenters Health Benefits Fund, et al. v. First\\n\\nDataBank, Inc, et al., and D.C. 37 Health and Security Plan v. Medi-Span cases on March 30,\\n2009.\\n\\n“Wholesale Acquisition Cost” or “WAC” means the wholesale acquisition cost of a\\nprescription drug, as determined by the current edition of the Medi-Span Master Drug Data Base,\\n\\nincluding supplements thereto, or any other nationally recognized publication that Catamaran may\\ndesignate from time to time.\\n\\nObligations of SeniorScript. SeniorScript shall manage Client’s Prescription benefit\\nadministration, including the provision of the following products and services in accordance with\\n\\nthe Plan design features communicated by Client to SeniorScript and in accordance with the\\nSeniorScript user manual.\\n\\na. SeniorScript shall participate in Client’s Medicare Prescription Drug Benefit program\\nand comply with Client’s contractual obligations as a PACE Part D sponsor.\\n\\nb, Network.\\n\\n(i) SeniorScript shall provide Network Pharmacies to service Covered Members\\nwhich shall be sufficient to ensure that Client’s Covered Members may receive\\nservices.\\n\\n(ii) Network Pharmacies shall provide services in accordance with local standard of\\n\\npharmacy practice and applicable law.\\n\\n(iit) Network Pharmacies shall submit claims whenever the membership ID card is\\n\\npresented or on file at the pharmacy unless the enrollee expressly requests that a\\nparticular claim not be submitted.\\n\\nc. Claims Adjudication and Data System.\\n\\n(1) SeniorScript shall process electronic Prescription claims at the point of sale\\nthrough its claims adjudication system.\\n\\n(ii) SeniorScript shall make reimbursement payments to pharmacies accurately and\\ntimely. SeniorScript will ensure payment to Network Pharmacies (excluding\\nlong-term care and mail order) shall be issued, mailed, or otherwise transmitted\\nwith respect to all clean claims submitted by or on behalf of pharmacies within\\n\\nfourteen (14) days for electronic claims and within thirty (30) days for claims\\nsubmitted otherwise.\\n\\n(iil) SeniorScript shall administer and track Client’s drug benefits in real-time and in\\naccordance with mutually agreed upon Client specifications.\\n\\n(iv) SeniorScript will provide a paper claim processing system meeting the\\n\\nfollowing standards for purposes of paying any claims submitted by non-\\nNetwork Pharmacies on behalf of Client:\\n\\n-2-\\n\\nPharmacy Benefit Management Services Agreement',\n",
       " 'SENTIORSCRIPT, LLC\\nPHARMACY BENEFIT MANAGEMENT SERVICES AGREEMENT\\n\\na. 100% of claims requiring no intervention handled within fifteen (15)\\ncalendar days;\\nb. 100% of claims requiring intervention handled within thirty (30)\\ncalendar days; and\\nC. 99% of manually keyed claims paid with no errors.\\n(vy) SeniorScript agrees to make available upon request of CMS, a complete\\n\\ndescription of its claims adjudication system, its policies and procedures, and\\nsystems descriptions regarding claims adjudication and the management of\\npayment processes to Network Pharmacies and/or Covered Members.\\n\\nd. Customer Service/Pharmacy Technical Assistance. SeniorScript shall operate toll-free\\ncustomer service and pharmacy technical support assistance service telephone lines\\ntwenty-four (24) hours a day, seven (7) days a week. Customer service staff will include,\\nor have access to, a licensed pharmacist for assistance in resolving pharmacological and\\n\\nbioavailability questions. Customer Service shall include the ability to provide customer\\nservice to seniors and persons with a disability.\\n\\ne. Data_and Reports. SeniorScript shall maintain a data reporting system in accordance\\nwith Exhibit A.\\n\\nf. Performance Standards. SeniorScript shall comply with the following performance\\nstandards:\\n(i) 98% of all customer service calls answered within fifteen (15) seconds;\\n(ii) 99% of clean claims paid with no errors; and\\n\\n(ili) System availability 99% of the time.\\n\\ng. Compliance. SeniorScript shall adopt a comprehensive Fraud, Waste, and Abuse\\nCompliance Program specifically designed to meet the requirements for Medicare Part D\\nPrescription Drug Plan Sponsors, to combat fraud, waste, and abuse in the Medicare Part\\nD PACE Prescription Drug Program, and to reaffirm its commitment to comply with all\\napplicable laws. In addition, SeniorScript agrees to participate in compliance orientation\\nand ongoing training in accordance with Client’s compliance program.\\n\\nh. Quality Assurance and Quality Improvement. SeniorScript agrees to participate in and\\ncontribute data as required for Client’s quality assurance programs.\\n\\nL. Credentialing Verification. | SeniorScript warrants and assures that its Network\\nPharmacies, employees, and other contracted health care providers meet licensing\\nrequirements mandated by federal and state law. SeniorScript shall verify employee\\ncredentials periodically but no less than every three (3) years. SeniorScript authorizes\\n\\nClient to monitor the credentialing verification process by allowing Client access to\\ndocuments verifying staff credentials.\\n\\nj. Grievance and Appeal. SeniorScript agrees to inform Network Pharmacies about the\\n\\ngrievance/appeal procedures and of the rights of Client’s Covered Members to file\\ngrievances and appeals.\\n\\nk. Medically Necessary. SeniorScript agrees not to impose requirements on Covered\\nMembers that are inconsistent with the provision of medically necessary care and\\nservices. SeniorScript further agrees not to impose requirements on Covered Members\\n\\nthat create barriers to the receipt of care and services covered by the Medicaid and/or\\nMedicare Programs.\\n\\nPharmacy Benefit Management Services Agreement',\n",
       " 'L\\n\\nSENIORSCRIPT, LLC\\n\\nPHARMACY BENEFIT MANAGEMENT SERVICES AGREEMENT\\n\\nElectronic Prescription Program. Upon the standards being published and made in effect\\nby CMS, SeniorScript agrees to develop and maintain an electronic prescription program\\nwhich will support electronic prescribing for pharmacies and physicians.\\n\\n3. Joint Obligations.\\n\\na.\\n\\nImplementation. Client and SeniorScript shall cooperate to achieve implementation of\\n\\nthe services to be provided by SeniorScript under this Agreement in accordance with an\\nagreed upon timetable.\\n\\nCommunications. SeniorScript shall provide standard identification cards for use within\\nthe pharmacy network which shall include SeniorScript’s name and toll free 800 number\\nfor customer service and other required billing information. SeniorScript shall also assist\\n\\nClient with the development of other material or information on how to use the\\nSeniorScript program,\\n\\nEligibility Data. Client shall furnish SeniorScript with Covered Member eligibility via an\\nelectronic file, SeniorScript’s web-based interface or in any other mutually agreed-upon\\nmedium. SeniorScript shall not be responsible for any Prescriptions filled or processed\\nfor any ineligible Covered Members due to incorrect or untimely eligibility data provided\\n\\nto SeniorScript. Client is solely responsible for providing SeniorScript with the\\nfollowing information (“Eligibility Data”):\\n\\n(i) Covered Member information including name, gender, date of birth, diagnosis,\\neffective date, and identification number; and\\n\\n(ii) Immediate notification of Covered Member expiration, discharge, or\\ntermination from enrollment with Client and the applicable reason.\\n\\nThe Covered Member identification number format shall be selected by Client with\\napproval by SeniorScript to ensure that such format will work with SeniorScript systems.\\n\\nClient shall be responsible for selecting an identification number that appropriately\\nprotects each Covered Member’s privacy.\\n\\nCovered Member Access. In accordance with 42 C.F.R § 423.136(d), SeniorScript shall\\n\\ncooperate with Client to ensure timely access by Covered Members to the records and\\ninformation that pertain to them.\\n\\n4, Obligations of Client.\\n\\na.\\n\\nPayment. Client shall pay SeniorScript in accordance with the fee schedule set forth on\\nExhibit B.\\n\\nControl of Plan. Client acknowledges that it has the sole authority to design, amend,\\ncontrol and administer each Plan. In processing and adjudicating claims, SeniorScript\\nshall strictly apply the provisions of each Plan or any exception authorized by Client.\\n\\nEnrollment and Maintenance. Client shall provide SeniorScript with sufficient Eligibility\\nData as described in Section 3(c) above. Such information shall be updated by Client as\\nnecessary for SeniorScript to administer Prescription benefits to Covered Members.\\n\\nMedical Care. Client acknowledges its sole responsibility for the initial and ongoing\\nCovered Member assessment, professional medical management, care coordination and\\n\\n-4-\\n\\nPharmacy Benefit Management Services Agreement',\n",
       " 'SENIORSCRIPT, LLC\\n\\nPHARMACY BENEFIT MANAGEMENT SERVICES AGREEMENT\\n\\na.\\n\\ncontinuity of pharmaceuticals obtained through the SeniorScript pharmacy network, and\\nany other medical treatment provided to Covered Member. Client further acknowledges\\nthat SeniorScript shall make no treatment decisions related to Covered Member care.\\n\\nPerformance Monitoring. Upon becoming a PACE Part D sponsor, Client will monitor\\nSeniorScript’s performance under this Agreement. Client may audit the performance of\\n\\nSeniorScript on an ongoing basis. Any audit shall be at Client’s cost upon reasonable\\nnotice to SeniorScript and shall be performed during regular business hours. Any errors\\nin billing determined by Client during an audit shall be corrected by SeniorScript.\\n\\nPharmacy Network. Client shall retain the right to approve, suspend, or terminate any\\n\\npharmacy from the pharmacy network accessible to Client’s Covered Members upon\\nwritten request to SeniorScript.\\n\\nBilling. SeniorScript shall invoice Client in accordance with the schedule set forth in\\nExhibit B to this Agreement.\\n\\nSuspension of Performance. SeniorScript may, at its sole discretion, upon written notice\\nto Client, suspend all services upon notice in the event payment in full is not made within\\nten (10) days of written notice of nonpayment provided to Client.\\n\\nRebates.\\n\\nClient shall be eligible to participate in the SeniorScript rebate program and receive\\npayments in accordance with Exhibit B.\\n\\nClient understands that its eligibility to receive payments for rebates may change over\\ntime due to changes in laws, including but not limited to laws affecting Prescription drug\\nbenefits, benefits structure, and pricing (including rebates).\\n\\nSubject to Paragraphs a and b above, SeniorScript shall pay to Client 100% of all\\npayments it receives from drug manufacturers or intermediaries that are attributable to\\nPrescription drug services utilized by Covered Members, as provided for and in\\naccordance with Exhibit B. Client acknowledges and agrees that it shall not have a right\\nto interest on, or the time value of, any rebate or other payments received by SeniorScript\\nduring the collection period for monies payable to Client under this paragraph. Client\\nacknowledges that rebate payments from manufacturers or intermediaries are received on\\na periodic basis by SeniorScript (usually quarterly) and relate to claims from\\napproximately six (6) to nine (9) months earlier. All rebate payments shall be paid\\nquarterly not less than one hundred and eighty days (180) following the end of the\\n\\napplicable quarter. SeniorScript shall indicate to Client which rebates are being paid for\\nwhich period of time.\\n\\nDuring the term of this Agreement, Client may not negotiate or contract with\\npharmaceutical manufacturers or intermediaries directly or indirectly for discounts,\\nutilization limits, rebates or other financial incentives on pharmaceutical products or\\nformulary programs with respect to Prescriptions processed pursuant to this Agreement.\\n\\nClient hereby represents and warrants, and shall recertify on a periodic basis in a form\\nacceptable to SeniorScript, with respect to any Plan which receives funding from\\n\\n-35-\\n\\nPharmacy Benefit Management Services Agreement',\n",
       " 'SENIORSCRIPT, LLC\\nPHARMACY BENEFIT MANAGEMENT SERVICES AGREEMENT\\n\\nMedicare/Medicaid, Title V, Children’s Medical Services, or another government\\nhealthcare program as defined in Section 1128(h) of the Social Security Act (or any\\nsuccessor thereto) (\"Government Programs\") and for which the Client receives rebates\\nattributable to such Plan, each such Plan is operating under a risk contract with the\\nCenters for Medicare and Medicaid Services or a state Medicaid program, and operates in\\naccordance with §§ 1876(g) or 1903(m) of the Social Security Act, under a federal\\nstatutory demonstration authority or successor statute or authority. Client agrees to notify\\nSeniorScript in writing of any such Plan that does not meet any of the criteria set forth\\nherein, and SeniorScript, in compliance with applicable law, shall not submit Prescription\\ndrug claims for any Covered Members in such Plan for Prescriptions filled by a\\nParticipating Pharmacy. Nothing herein prohibits a Client that receives the retiree drug\\nsubsidy (“RDS”) from CMS for eligible Covered Members under the Medicare Part D\\nRules (42 C.F.R. Part 423, Subpart R) from receiving rebates relating to such eligible\\nCovered Members Prescription drug claims under this Agreement.\\n\\nThe Parties acknowledge and agree that any rebate reimbursement provided to Client\\npursuant to this Agreement is a “discount” under 42 U.S.C. § 1320a-7b (b)(3) and 42\\nCFR. § 1001.952(h) (the “Discount Safe Harbor”). For the purpose of complying with\\nthe Discount Safe Harbor, SeniorScript shall clearly denote in invoices and other\\nstatements amounts that constitute rebate reimbursement. Client shall properly disclose\\nand appropriately reflect all rebate reimbursement in the costs claimed or the charges\\nmade to any Government Program. Without limiting the foregoing, if Client claims a\\nsubsidy from CMS for eligible Covered Members under the Medicare Part D Rules (42\\nC.F.R. Part 423, Subpart R), Client shall properly disclose and appropriately reflect any\\nrebate reimbursement paid by SeniorScript to Client in the Allowable Retiree Costs (as\\ndefined at 42 C.F.R. § 423.882) and other information submitted to CMS for payment of\\n\\nsuch subsidy in accordance with the Medicare Part D Rules, all applicable regulatory\\nguidance and CMS policies.\\n\\n7. Term and Termination.\\n\\na. Term and Termination. This Agreement shall be effective for a period of one (1) year\\nfrom the Effective Date (“Initial Term”). The Initial Term shall be automatically\\nrenewed for additional one (1) year periods unless otherwise terminated at least ninety\\n(90) days prior to the end of any term by either party. Client may terminate this\\nAgreement upon written notice to SeniorScript in the event that SeniorScript loses the\\nright to provide services to Part D programs. Either party may terminate this Agreement\\nin the event of a material breach by the other party upon thirty (30) days written notice to\\nthe other party; provided however, that if the breach is cured within thirty (30) days of\\nthe termination notice, the termination shall not be effective. Suspension of performance\\n\\nby SeniorScript pursuant to Section 5(b) of this Agreement shall not be construed as a\\ntermination of this Agreement.\\n\\nAny activity or responsibility delegated to SeniorScript hereunder but not performed\\n\\nsatisfactorily by SeniorScript may be revoked by Client upon written notice to\\nSeniorScript.\\n\\nb. Obligations Upon Termination. In the event of termination of this Agreement for any\\nreason, SeniorScript shall continue to process electronically-submitted pharmacy claims\\nthat are received prior to the termination date. SeniorScript shall also process paper\\nclaims for which it receives complete information and that were incurred prior to the\\ntermination for a period of thirty (30) days following the termination date, except when\\nrequested not to do so by Client. Client shail remain liable for all claims fees, fees\\nincurred through the periods described in this Section and shall make full payment within\\n\\n-6-\\nPharmacy Benefit Management Services Agreement',\n",
       " \"SENIORSCRIPT, LLC\\nPHARMACY BENEFIT MANAGEMENT SERVICES AGREEMENT\\n\\nfive business days of termination and within ten business days for any post termination\\ninvoices. Client shall be responsible for the following expenses at SeniorScript’s\\nprevailing rates: (a) forwarding Prescription related data or claims to any new vendor,\\n(b) production and distribution of communication materials requested by Client and/or\\nnew vendor, (c) programming requirements for new vendor, and (d) special reports\\n\\nrequested by Client. SeniorScript shall provide such prevailing rates upon request of\\nClient.\\n\\n8. Miscellaneous.\\na. Indemnification.\\n(1) SeniorScript shall defend, indemnify and hold harmless Client and each of its\\n\\nofficers, directors, employees, agents members and managers (the “Client\\nParties”), from and against any and all claims, liabilities, damages or expenses\\nof any kind (including reasonable attorneys’ fees and disbursements)\\n(collectively, “Indemnified Amounts”) incurred by any Client Parties relating to\\n\\nSeniorScript's gross negligence or willful misconduct, except to the extent such\\nIndemnified Amounts are due to the gross negligence or willful misconduct of\\nany Client Party.\\n\\n(ii) To the extent permitted by South Carolina law, Client shall defend, indemnify\\nand hold harmless SeniorScript and each of its officers, directors, employees,\\nagents, members, and managers (the “SeniorScript Parties”), from and against\\nany and all Indemnified Amounts incurred by any SeniorScript Parties relating\\nto Client’s gross negligence or willful misconduct or any Plan design issues,\\nexcept to the extent such Indemnified Amounts are due to the gross negligence\\nor willful misconduct of any SeniorScript Party.\\n\\n(ili) The party seeking indemnification shall notify the other party in writing within\\nthirty (30) days of the assertion of any claim, or the commencement of any\\naction or proceeding for which indemnity may be sought under this Agreement.\\nFailure to notify the other party shall result in the waiver of indemnity rights\\nwith respect to such claim, suit, action or proceeding. The parties shall\\n\\ncooperate with each other in the defense and settlement of any such claim,\\naction or proceeding.\\n\\nb. Assignment. Neither party may assign this Agreement without the prior written consent\\nof the other party, which consent shall not be unreasonably withheld; provided, however,\\nthat either party may assign this Agreement to any of its affiliates at any time, and either\\n\\nparty may assign this Agreement as part of a sale of all or substantially all of the assets of\\nthe business of such party to which this Agreement pertains.\\n\\nG Compliance with Law. Each party shall comply with the provisions of all applicable\\nfederal, state and local laws and regulations and instructions from CMS in connection\\nwith the subject matter of this Agreement and shall be responsible for accurately\\nreporting the payments and discounts provided under this agreement in accordance with\\ntheir respective obligations under any applicable law. Neither party shall make payments\\nor perform any services under this Agreement that would be prohibited by law. No part\\nof this Agreement shall be construed to induce or encourage the referral of Covered\\nMembers, and no payment made pursuant to this Agreement or any other agreement\\nbetween SeniorScript and Client shall be construed to induce the purchase, lease, order or\\narrangement for the furnishing of healthcare products or services. Further, it is the\\nintention of the parties that the performance of this Agreement will fully comply with\\nany applicable provisions of Section 6005 of the Patient Protection and Affordable Care\\nAct, Section 1128B (b) of the Social Security Act (42 U.S.C. §1320a-7b (b) (the federal\\n\\nPharmacy Benefit Management Services Agreement\",\n",
       " \"SENIORSCRIPT, LLC\\nPHARMACY BENEFIT MANAGEMENT SERVICES AGREEMENT\\n\\nanti-kickback statute), safe harbor regulatory provisions thereunder to the extent\\napplicable, and any similar state laws.\\n\\nd, Government Audits, Inquiries and Record Requests. In accordance with 42 C.F.R. §\\n423 .505(e\\\\(2) and 42 C.F.R. § 423.505(i)(2), SeniorScript shall maintain records relating\\nto its provision of services to Client's Plans under this Agreement for a minimum of ten\\n(10) years or longer as required by law. SeniorScript shall permit the Department of\\nHealth and Human Services, the Comptroller General, or their designees direct access to\\nand the right to audit, evaluate, or inspect any books, contracts, or other records of\\nSeniorScript that pertain to any aspect of SeniorScript's services performed for Client\\nunder this Agreement or CMS's contract with Client, including reconciliation of benefit\\nliabilities, and determination of amounts payable under CMS's contract with Client, or as\\nthe Secretary of the Department of Health and Human Services may deem necessary to\\nenforce CMS's contract with Client. SeniorScript agrees that the Department of Health\\nand Human Services, the Comptroller General, or their designees right to inspect,\\nevaluate, and audit the records of SeniorScript that pertain to any aspect of SeniorScript's\\nservices performed for Client under this Agreement or CMS's contract with Client\\nextends through ten (10) years from the end date of Client's contract period as set forth in\\n\\nClient's contract or ten (10) years from the completion of the audit by the Department of\\nHealth and Human Services, the Comptroller General, or their designees.\\n\\nIn the event CMS contacts SeniorScript directly with respect to an audit, evaluation or\\ninspection of Client's Plans, SeniorScript shall promptly notify Client of such andit,\\nevaluation or inspection. The Parties acknowledge and agree that record requests from\\nCMS or its designees relating to Client's Plans shall be answered by Client. If such a\\nrequest involves books, contracts, records, including medical records, or other\\ndocumentation relating to Client's Plans that is maintained by SeniorScript, SeniorScript\\n\\nshall provide such requested documentation to Client for production to CMS or its\\ndesignees.\\n\\né Exclusive Vendor. Client shall make SeniorScript the exclusive vendor for its Covered\\nMembers for the products and services described in this Agreement during the Term.\\n\\nf, Force Majeure. Except for payment obligations, neither party shall be liable for failure\\nor delay of performance arising from an act of God or other events beyond reasonable\\ncontrol of the parties and without their respective fault or negligence, such as the acts of a\\n\\nregulatory agency, fires, floods, explosions, strikes, labor stoppages, and acts of war or\\nrebellion.\\n\\noq\\n\\nLimitation of Liability. Except as otherwise expressly set forth in this Agreement,\\nSeniorScript makes no representations or warranties, express or implied, including but\\nnot limited to any warranty of merchantability or fitness for a particular purpose for the\\n\\nPrescriptions provided under this Agreement. In no event shall SeniorScript be liable for\\nany incidental or consequential damages of Client.\\n\\nh. Amendment of Agreement. Except as otherwise provided herein, this Agreement may\\nnot be modified except in writing signed by both parties.\\n\\ni. Severability. If any provision of this Agreement is held to be invalid or unenforceable\\nfor any reason, such invalidity or unenforceability shall not affect the remainder of this\\n\\nAgreement, which shall be in full force and effect and enforceable in accordance with its\\nterms.\\n\\nj. Entire Agreement; Waiver. This Agreement supersedes all prior or contemporaneous\\nunderstandings or contracts, and constitutes the entire agreement existing between the\\n\\n-§-\\nPharmacy Benefit Management Services Agreement\",\n",
       " 'SENIORSCRIPT, LLC\\nPHARMACY BENEFIT MANAGEMENT SERVICES AGREEMENT\\n\\nparties regarding the subject matter of this Agreement. No waiver or discharge of any\\nbreach of this Agreement shall be effective unless it is in writing signed by the party\\ngranting such waiver or discharge. Any waiver of any breach of any provision of this\\n\\nAgreement shall not be a waiver of any subsequent breach of any provision of this\\nAgreement.\\n\\nk. Notices. Any notice given under this Agreement shall be deemed received if in writing,\\nand if sent by hand delivery, overnight courier that provides confirmation of delivery, or\\ncertified mail, return receipt requested, to the applicable party at its address set forth with\\nits signature to this Agreement, or to such other address or to the attention of such other\\n\\nperson as either party may designate in writing pursuant to this Section. Mailed notices\\nshall be deemed received three (3) business days following mailing.\\n\\nlL. Confidentiality.\\n0) Client and SeniorScript shall not disclose to any third party any confidential or\\nproprietary information relating to the other party, or its business operations,\\n\\nincluding any policies, procedures, reports, systems, methods, products or other\\ninformation or the terms of this Agreement (“Confidential Information”) except\\nto the extent: (a) the information is or becomes generally available or known to\\nthe public through no fault of the receiving party; (b) the information was\\nalready known by or available to the receiving party prior to the disclosure by\\nthe other party on a non-confidential basis; (c) the information is subsequently\\ndisclosed to the receiving party by a third party who is not under any obligation\\nof confidentiality to the party who disclosed the information; (d) the information\\nis required to be disclosed as part of a judicial process, government\\ninvestigation, legal proceeding or other similar process; or (e) the information\\nhas already been or is hereafter independently acquired or developed by the\\nreceiving party without violating any confidentiality agreement or other similar\\nobligation. If either party is required to disclose the Confidential Information of\\nthe other party as part of a judicial process, government investigation, legal\\nproceeding, or other similar process, such party, if it is reasonably possible to do\\nso, shall give such prior written notice to the other party to allow the other party\\nto seek an appropriate protective order or modification of any disclosure.\\n\\n(ii) Each party agrees to comply with all state and federal laws and regulations\\nrelating to privacy and security of personally identifiable health information\\napplicable to such party’s obligations under this Agreement including, the\\nimplementing regulations (45 C.F.R. parts 160-164) issued under the Health\\nInsurance Portability and Accountability Act of 1996 (“HIPAA”). Each party\\nshall cooperate with the other party in doing what is reasonably necessary,\\n\\nincluding executing all documents reasonably requested by the other party, to\\ncomply with all such state and federal laws and regulations.\\n\\n(ili) In accordance with HIPAA, SeniorScript shall adhere to the requirements in the\\nPrivacy Rule for Business Associates as set forth in the Business Associate\\nAddendum between SeniorScript and Client set forth in Exhibit C.\\n\\nm. Counterparts. This Agreement may be executed in counterparts, each of which shall be\\ndeemed an original, but all of which together shall constitute one and the same\\ninstrument.\\n\\nn. Covered Member Billing. Except for any applicable Copayments established by Client,\\n\\nSeniorScript and Network Pharmacies shall look only to Client for compensation for\\ncovered Prescriptions described in this Agreement to be provided to Covered Members\\nand shall at no time seek compensation from Covered Members or their families, CMS,\\n\\n-9-\\nPharmacy Benefit Management Services Agreement',\n",
       " 'SENIORSCRIPT, LLC\\nPHARMACY BENEFIT MANAGEMENT SERVICES AGREEMENT\\n\\nthe applicable State, or private insurer for such products and services regardless of\\nwhether or not payment is received from Client. SeniorScript will hold CMS, the State,\\nand Covered Members and their families harmless if Client does not make payment.\\nThis provision shall remain in effect in the event of insolvency of Client.\\n\\noO. Taxes and Assessments. Any sales, use or other tax or assessment imposed on items\\ndispensed, or services provided under the Agreement, will be the sole responsibility of\\nClient.\\n\\np. No Third-Party Beneficiaries. Except as otherwise set forth in this Agreement, nothing\\n\\nin this Agreement is intended to confer upon any person, other than the parties and their\\n\\nrespective successors and assigns, any rights, remedies, obligations or liabilities\\nwhatsoever.\\n\\nq. Insurance. SeniorScript and Client each shall maintain professional liability insurance\\nwith policy limits of $1 million per occurrence and $3 million in the aggregate.\\n\\nr. Cost Reporting. If the cost or value of services provided under this Agreement equals or\\nexceeds ten thousand doilars ($10,000) over a twelve month period, SeniorScript shall,\\nupon request, make available to the Secretary, U.S. Department of Health and Human\\nServices, the U.S. Comptroller General and their representatives, this Agreement and all\\nbooks, documents and records necessary to prove the nature and extent of the costs of the\\n\\nservices provided pursuant to the terms of this Agreement in accordance with 42 CFR,\\nPart 420, 300.\\n\\nS. Relationship of Parties. None of the provisions of this Agreement are intended to create\\nnor shall be deemed or construed to create any relationship between the parties hereto\\nother than that of independent entities contracting with each other hereunder solely for\\nthe purpose of effecting the provisions of this Agreement. Neither of the parties hereto,\\n\\nnor any of their respective employees, shall be construed to be the agent, employer, or\\nrepresentative of the other, except as specifically provided herein.\\n\\nt. Arbitration, Any dispute, controversy, or claim arising out of or relating to this\\nAgreement, or breach thereof shall be settled by arbitration administered by the\\nAmerican Arbitration Association under its Commercial Arbitration Rules, and judgment\\non the award rendered by the arbitrator(s) may be entered in any court having jurisdiction\\nthereof. Any cost associated with such arbitration shall be borne equally by the parties.\\n\\nu. No Rule of Construction. No rule of construction shall apply to this Agreement which\\nconstrues any language, whether ambiguous, unclear or otherwise, in favor of, or against\\nany party by reason of that party’s role in drafting the language.\\n\\nv. Enforceability. The invalidity or unenforceability of any terms or provisions hereof\\nshall in no way affect the validity or enforceability of any terms or provisions. If one or\\nmore of the provisions of this Agreement shall for any reason be illegal, invalid, or\\nunenforceable, the remaining provisions of the Agreement shall nevertheless be valid,\\nenforceable, and of full force and effect; provided, however, that if the invalid provision\\n\\nis material to the overall purpose and operation of this Agreement, this Agreement shall\\nbe terminated upon severance thereof.\\n\\nw. Delegation of Services. Client acknowledges that SeniorScript may delegate the\\nperformance of certain functions and services under this Agreement to persons and\\nentities under contract with SeniorScript, provided that SeniorScript shall remain\\n\\nresponsible for the proper performance of its obligations in accordance with the terms of\\nthis Agreement.\\n\\n-10-\\nPharmacy Benefit Management Services Agreement',\n",
       " \"SENIORSCRIPT, LLC\\nPHARMACY BENEFIT MANAGEMENT SERVICES AGREEMENT\\n\\nx. Exhibits. The following exhibits are made a part of this Agreement:\\n\\nExhibit A — Reports\\n\\nExhibit B — Client Payments\\n\\nExhibit C — HIPAA Business Associate Agreement\\nExhibit D — Credit Policy\\n\\nAny ambiguity between this Agreement and an Exhibit shall be resolved in favor of the Exhibit.\\n\\nAuthorized representatives of the parties have signed this Agreement.\\n\\nCatamaran Senior Services, LLC Greenville Health System\\n\\nd/b/a SeniorScript d/b/a Greenville Health System Senior Care\\n4525 Executive Park Drive, Suite 100, 300 East McBee Avenue, Suite 501\\n\\nMontgomery, Alabama 36116 Greenville, South Carolina 29601\\n\\n[exe Grosklags\\nleff'Grosklags (Nov 12, 20%)\\n\\nSignature:\\n\\n \\n\\n \\n\\nJeff Grosklags\\n\\nName:\\n\\n \\n\\n \\n\\ntitle CEO\\n\\n \\n\\n \\n\\n \\n\\nNov 12, 2015\\nDate:\\n\\n \\n\\n \\n\\n \\n\\n-Li-\\nPharmacy Benefit Management Services Agreement\",\n",
       " 'EXHIBIT A\\nREPORTS\\n\\nSeniorScript certifies that it has data management processes and data systems capable of collecting and submitting\\n\\ndata regarding services provided to Client and agrees to submit utilization encounter data with data fields as agreed\\nupon by the parties, including but not limited to the following requirements;\\n\\naq\\n\\nCollection of data in either an NCPDP or X12 format, which will encompass quantity, type and cost of\\n\\nPrescriptions filled for Client’s Covered Members and is linked to Client’s Covered Members identification\\nnumbers;\\n\\nSubmission of detailed Prescription drug claim information for every Part D drug Prescription using a batch\\n\\nprocess, which will identify quantity, type and cost and is linked to Client’s Covered Members identification\\nnumbers;\\n\\nSubmission of data to CMS via the Medicare Data Communications Network (MDCN).\\n\\nPerformance of data edits and quality control procedures to ensure accurate and complete Prescription drug\\ndata;\\n\\nCorrection of all data errors identified by CMS;\\n\\nCollection of data for dates of service within the coverage period with a three-month closeout window for the\\nsubmission of remaining unreported claims data;\\n\\nAbility to send and receive claims data for third party payors from the CMS contractor serving as the\\nclearinghouse for Client’s Covered Members outpatient drug claims;\\n\\nReporting of quarterly generic dispensing rates in accordance with Client requirements; and\\n\\nReporting of quarterly prior authorization activities including the number of prior authorizations requested\\nand approved and any pharmacy transactions denied due to need for a prior authorization, as applicable.\\n\\nFurther, the following reports shall be provided to Client as specified below.\\n\\nReport Frequency\\n1. Client Management Reports via web interface Daily\\n2. Invoice Weekly\\n\\nRecords Retention: SeniorScript agrees to comply with all applicable record retention requirements set forth in\\nfederal and state statutes and regulations.\\n\\nExhibit A Reports 3/8/12',\n",
       " 'EXHIBIT B\\nCLIENT PAYMENTS\\n\\n1. General Pharmacy. For each Prescription drug or supply billed to Client and dispensed to a Covered\\nMember by a SeniorScript retail pharmacy (for both brand and generic drugs), Client shall pay SeniorScript\\nat the rates (including both ingredient and dispensing fees) such pharmacies have agreed with SeniorScript to\\naccept (net of any Copayments, coinsurance or deductible amounts), plus any applicable sales or excise tax\\nor other governmental charge. SeniorScript shall not retain any margin or spread on such in-network retail\\npharmacy claims. Accordingly, any amount billed by SeniorScript to be paid to Network Pharmacies shall\\nby paid fully to such pharmacies. Notwithstanding the foregoing, any electronic processing fee charged by\\nSeniorScript to Participating Pharmacies may be retained by SeniorScript. Prescription drug pricing\\nstandards used in calculating claims, including AWP, WAC, and direct pricing, will be updated to occur not\\nless than once every seven (7) days, beginning with an initial update on January 1 of each year to accurately\\nreflect the market price of acquiring the drug, in accordance with 42 CFR §423.05(i)(3)(viii(A) and 42 CRF\\n\\n§ 423.505(b)(21).\\n\\n \\n\\n \\n\\n \\n\\n \\n   \\n\\n \\n\\n \\n\\n   \\n\\n \\n\\n \\n\\n \\n\\n \\n\\n \\n\\n \\n\\n \\n\\n \\n\\n \\n\\n \\n\\n2. The rates and fees set forth above are subject to conditions set forth in this Agreement. In addition, certain\\nconditions such as pharmacies with “most favored pricing” obligations, remote area pharmacies, in-house or\\nClient-owned pharmacies, and Client requests for additions to a selected network may result in a rate change\\nor differential with respect to the affected pharmacy(ies) that will be passed on to Client.\\n\\n3. Administrative Fees. Client shall pay SeniorScript for administrative services, as follows:\\n\\nBase Administrative Fee: $1.55 per prescription\\nPaper Claim Administrative Fee: $4.00 per prescription\\n4. Clinical Services: SeniorScript’s clinical expertise in administering its pharmacy benefit is offered through\\nthe following options:\\nAe ce\\n[ees SE i eu! o au : i i\\nAs-Needed Clinical Support Access to geriatric trained pharmacist for No Charge\\npharmaceutical support.\\nPharmacy On-Demand Utilization review of each enrollee upon | $2.00/Prescription;\\nadmission, upon any medication change, and at\\nleast once per quarter by a geriatric trained\\npharmacist.\\nClinical Consulting Special projects, research, or case studies as $200 per hour\\nrequested to include formulary development.\\nOn-Site Clinical Educational Presentation to physicians, program participants | $1,000 per session\\nProgram or referral sources on a prepared topic of plus travel cost\\nprogram’s choice.\\nEducational Access Package Access to quarterly lunch and learn telecasts, No Charge\\nonline drug database, treatment guidelines, and\\nadditional clinical and educational resources.\\n5. Manufacturer Rebates: SeniorScript shall pay to Client 100% of all payments it receives from\\n\\npharmaceutical manufacturers or intermediaries that are denominated by such manufacturers or\\nintermediaries as rebates in agreements with SeniorScript and that are attributed to the claims for Prescription\\ndrug services paid by Client. Notwithstanding anything set forth in other provisions of this Agreement,\\nrebates shall be paid quarterly, not less than one hundred and eighty (180) days following the end of the\\n\\napplicable quarter.\\n\\nExhibit B Client Payments3/8/12\\n\\n- 13 -',\n",
       " \"EXHIBIT B\\nCLIENT PAYMENTS\\n\\n6. Obligation of Confidentiality Regarding Prescription Drug Services Rates and Manufacturer Rebates. Client\\nshall acknowledge and agree that the rates at which SeniorScript pays retail and mail order pharmacies for\\nPrescription drug services and the rebate amounts received by SeniorScript from manufacturers or\\nintermediaries constitute highly proprietary and confidential information. As a result, Client agrees that such\\ninformation shall be disclosed only to Client’s essential personnel and used by such essential personnel\\nsolely to perform accounting and payment functions relating to this Agreement. Client shall advise such\\n\\npersonnel of the proprietary and confidential nature of this information, and shall be responsible for its\\npersonnel’s compliance with the requirement for confidentiality.\\n\\nIf information regarding the rates at which SeniorScript pays pharmacies for Prescription Drug Services\\nand/or the rebate amounts received by SeniorScript from manufacturers or intermediaries are requested by the\\ngovernment or subpoena or otherwise from Client, Client shall notify SeniorScript immediately upon receipt\\n\\nof such request so that SeniorScript may pursue an injunction, protective order, or another prohibition on\\ndisclosure.\\n\\n7. Reservation of Rights. SeniorScript may modify or amend the financial provisions of this Agreement upon\\nthirty (30) days written notice to Client in the event of (a) any government imposed or industry wide change\\nthat would impede SeniorScript's ability to provide the services and discounts described in this Agreement;\\n(b) a material change in the rates SeniorScript is invoiced for pharmacy network services upon which the\\nfinancial provisions included in this Agreement are based; (c) a material change in the scope of services to be\\nperformed under this Agreement upon which the financial provisions included in this Agreement are based;\\nor (d) changes are made to the methodology by which AWP is calculated or reported by pharmaceutical\\nmanufacturers; provided, however that Client shall have the right to terminate this Agreement within thirty\\n(30) days upon written notice after it receives such modification or amendment.\\n\\n&. Payment. SeniorScript shall submit semi-monthly invoices to Client that shall include both amounts owed for\\nclaims incurred by Covered Members for Covered Services and all administrative fees owed by Client;\\nprovided, however, that SeniorScript may submit invoices more frequently if laws or regulations require\\nmore prompt payment of Network Pharmacies than is currently required. All payments by Client shall be\\nmade to SeniorScript via check or wire transfer within ten (10) business days after the date of the invoice to\\nClient. Client shall provide all necessary forms for facilitating this process. Payment must be made in full.\\nShould Client appeal an amount on an invoice, Client shall pay the invoice in full and request a credit for\\nthe appealed amount. Client shall have ninety (90) days from date of the applicable invoice to file an\\nappeal. Late payments shall bear a service fee in the amount of one and one-half percent (1.5%) for each\\n\\nthirty (30) days payment is late (or, if less, the highest rate allowed by law), which shall be prorated for\\npartial months. Any costs of collection shall be the responsibility of Client.\\n\\nExhibit B Client Payments3/8/12\",\n",
       " 'EXHIBIT C\\nBUSINESS ASSOCIATE AGREEMENT\\n\\nTo the extent that Covered Entity discloses Protected Health Information to Business Associate (or\\nBusiness Associate handles Protected Health Information on Covered Entity\\'s behalf) in connection with\\nservices or products provided to Covered Entity, or as otherwise required or allowed by the Administrative\\nSimplification provisions of the Health Insurance Portability and Accountability Act of 1996, codified at 42\\nU.S.C. §1320d through d-9, as amended, (\"HIPAA\"), and only to the extent required by law, Covered\\nEntity and Business Associate agree to the following terms and conditions, which are intended to comply\\n\\nwith HIPAA, the Health Information Technology for Economic and Clinical Health Act (\"HITECH Act\")\\nand their implementing regulations: ‘\\n\\n1. General Definitions.\\n\\n(a)\\n\\n(b)\\n\\n(c)\\n\\n(d)\\n\\n(e)\\n\\nThe term “Business Associate” shall generally have the same meaning as the term\\n“business associate” at 45 CFR 160.103, and in reference to the party to this Exhibit, shall\\nmean Catamaran Senior Services, LLC doing business as SeniorScript (“SeniorScript”).\\n\\nThe term “Covered Entity” shall generally have the same meaning as the term “covered\\n\\nentity” at 45 CFR 160.103, and in reference to the party to this Exhibit, shall mean\\n(Cascade PACE.)\\n\\nThe term “HIPAA Rules” shall mean the applicable Privacy, Security, Breach Notification\\nand Enforcement Rules set forth at 45 CFR Part 160 and 164.\\n\\nThe term “PBM Services Agreement” shall refer to the written agreement between Business\\nAssociate and Covered Entity for the provision of prescription benefit management services\\n\\nto Covered Entity’s members to which this Exhibit C (“BA Exhibit’) is attached to and\\nincorporated therein.\\n\\nThe following terms used in this BA Exhibit shall have the same meaning as ascribed in the\\napplicable HIPAA Rules: Breach, Data Aggregation, Designated Record Set, Disclosure,\\nHealth Care Operations, Individual, Minimum Necessary, Notice of Privacy Practices,\\nProtected Health Information (to the extent such Protected Health Information is received,\\nused, disclosed, accessed, transmitted or maintained by Business Associate), Required By\\n\\nLaw, Secretary, Security Incident, Subcontractor, Unsecured Protected Health Information,\\nand Use. Other terms shall have the definitions set forth in this BA Exhibit.\\n\\n2. Obligations of Business Associate\\n\\n(a)\\n\\n(b)\\n\\n(c)\\n\\nBusiness Associate agrees not to Use or Disclose Protected Health Information other than\\n\\nas permitted or required by this BA Exhibit, as Required By Law or as contemplated by the\\nPBM Services Agreement.\\n\\nBusiness Associate agrees to use appropriate safeguards, including compliance with\\nSubpart C of 45 CFR Part 164 with respect to electronic Protected Health Information in\\norder to prevent the unauthorized Use or Disclosure of the Protected Health Information. In\\naddition, Business Associate will implement the necessary administrative, physical and\\ntechnical safeguards that reasonably and appropriately protect the confidentiality, integrity\\nand availability of the electronic Protected Health Information that it creates, receives,\\nmaintains or transmits on behalf of Covered Entity as required by HIPAA.\\n\\nBusiness Associate agrees to report promptly, but in no event later than ten days, to\\nCovered Entity\\'s Privacy Office any Use or Disclosure of Protected Health Information not\\nprovided for by this BA Exhibit and constituting a Breach under HIPAA, including\\nBreaches of Unsecured Protected Health Information as required by 45 CFR. §164.410 and\\nany Security Incident of which it becomes aware. For reports of incidents constituting a\\nBreach, the report shall include, to the extent available, the identification of each individual\\nwhose Unsecured Protected Health Information has been, or is reasonably believed by\\n\\nExhibit C Business Associate Agreement -~ 15 -',\n",
       " \"EXHIBIT C\\nBUSINESS ASSOCIATE AGREEMENT\\n\\nBusiness Associate to have been, accessed, acquired, or Disclosed during such Breach.\\nSecurity Incidents that do not result in any unauthorized access, use, disclosure,\\nmodification, destruction of information or interference with system operations will be\\n\\nreported in the aggregate upon written request of Covered Entity in a manner and frequency\\nmutually acceptable to the parties.\\n\\n(d) To the extent applicable, Business Associate agrees to ensure that any agent and/or\\nsubcontractor creating, receiving, maintaining and/or transmitting Protected Health\\nInformation on behalf of Business Associate for the benefit of Covered Entity agree to the\\n\\nsame restrictions and conditions that apply within this BA Exhibit to Business Associate\\nwith respect to such information.\\n\\n(e) To the extent Business Associate has Protected Health Information in a Designated Record\\nSet, and only to the extent required by HIPAA, Business Associate agrees to provide\\naccess, at the request of Covered Entity, to Protected Health Information in a Designated\\nRecord Set, to Covered Entity in order to meet the requirements under 45 CFR §164.524.\\n\\nThe Parties agree and acknowledge that it is Covered Entity's responsibility to respond to\\nall such requests.\\n\\n(f) Upon written request, Business Associate agrees to make any amendment(s) to Protected\\nHealth Information in its possession contained in a Designated Record Set that the Covered\\nEntity directs or agrees to pursuant to 45 CFR §164.526. The Parties agree and\\nacknowledge that it is Covered Entity's responsibility to respond to all such requests.\\n\\n(g) Business Associate agrees to make internal practices, books, and records relating to the Use\\nand Disclosure of Protected Health Information received from Covered Entity, or created or\\nreceived by Business Associate on behalf of Covered Entity, available to the Secretary, in a\\n\\ntime and manner designated the Secretary, for purposes of the Secretary determining\\nCovered Entity’s compliance with the Privacy Rule.\\n\\n(h) Business Associate agrees to document any Disclosures of Protected Health Information\\nand make available the information required to provide an accounting of Disclosures to\\nCovered Entity as necessary to enable the Covered Entity to satisfy its obligations for an\\naccounting of Disclosures in accordance with 45 CFR §164.528. The Parties agree and\\nacknowledge that it is Covered Entity's responsibility to respond to all such requests.\\n\\n() To the extent Business Associate agrees to perform one or more of Covered Entity’s\\nobligations under Subpart E of 45 CFR Part 164 of the HIPAA Rules, Business Associate\\n\\nwill comply with the requirements of Subpart E that apply to Covered Entity in the\\nperformance of such obligation(s).\\n\\nPermitted Uses and Disclosures of Protected Health Information by Business Associate.\\n\\n(a) Business Associate may only Use or Disclose Protected Health Information as necessary to\\n\\nperform the services set forth in the PBM Services Agreement and as permitted by this BA\\nExhibit.\\n\\n(b) Business Associate may also Use or Disclose Protected Health Information as Required By\\nLaw.\\n\\n(c) Business Associate agrees to make uses, disclosures and requests for Protected Health\\nInformation consistent, with the requirements in the HIPAA Rules regarding Minimum\\nNecessary uses and disclosures. Covered Entity represents that its Minimum Necessary\\npolicies and procedures and the Notice of Privacy Practices are consistent with, and not\\nmore stringent than, the HIPAA Rules or, to the extent that Covered Entity's Notice of\\nPrivacy Practices or policies and procedures regarding the Minimum Necessary\\n\\nExhibit C Business Associate Agreement - 16 -\",\n",
       " '(d)\\n\\n(©)\\n\\n(f)\\n\\n(g)\\n\\n(h)\\n\\nEXHIBIT C\\nBUSINESS ASSOCIATE AGREEMENT\\n\\nrequirements of the HIPAA Rules impose additional particular restrictions on Business\\nAssociate, Covered Entity agrees to provide such policies to Business Associate in writing\\n\\nprior to requesting that Business Associate perform a particular function or activity on\\nbehalf of Covered Entity that would be affected by such policies and procedures.\\n\\nBusiness Associate may de-identify any PHI received from or created or received on behalf\\nof Covered Entity for the purpose of conducting internal book of business analyses and\\nclinical reports (i.e. drug trend reports) provided that such de-identification complies with\\nthe requirements set forth in the Privacy Rule. Business Associate may not de-identify PHI\\n\\ncovered under this Agreement for any other purposes without the prior written approval of\\nCovered Entity.\\n\\nBusiness Associate may use Protected Health Information to provide Data Aggregation\\nservices to Covered Entity. Business Associate may also use Protected Health Information\\n\\nto create, use and disclose a Limited Data Set consistent with the HIPAA Rules and Section\\n3 (d) of this Business Associate Agreement.\\n\\nBusiness Associate may use and disclose Protected Health Information to report violations\\n\\nof law to appropriate Federal and State authorities, in a manner consistent with the HIPAA\\nRules.\\n\\nBusiness Associate may not use or disclose Protected Health Information in a manner that\\n\\nwould violate Subpart E of 45 CFR Part 164 if done by Covered Entity, except for the\\nspecific uses and disclosures set forth herein.\\n\\nBusiness Associate may use or disclose Protected Health Information for the proper\\nmanagement and administration of the Business Associate or to carry out the legal\\nresponsibilities of Business Associate, provided that the disclosures are Required By Law\\nor Business Associate obtains reasonable assurances from the person to whom the\\ninformation is disclosed that the information will remain confidential and used or further\\ndisclosed only as Required By Law or for the purposes for which it was disclosed to the\\nperson, and the person notifies Business Associate of any instances of which it is aware in\\nwhich the confidentiality of the information has been breached.\\n\\n4, Obligations of Covered Entity.\\n\\n(a)\\n\\nProvisions for Covered Entity to Inform Business Associate of Restrictions\\n\\n(1) Covered Entity agrees to promptly notify Business Associate in writing of any\\nlimitation(s) or material change(s) in its Notice of Privacy Practices to the extent that\\n\\nsuch limitation or change may affect Business Associate’s Use or Disclosure of\\nProtected Health Information.\\n\\n(ii) Covered Entity agrees to promptly notify Business Associate in writing of any\\nchanges in, or revocation of, permission by an Individual to Use or Disclose\\n\\nProtected Health Information, if such changes affect Business Associate’s permitted\\nor required Uses and Disclosures.\\n\\n(ili) Covered Entity agrees to promptly notify Business Associate in writing of any\\nrestriction on the Use and/or Disclosure of Protected Health Information to which\\n\\nCovered Entity has agreed, to the extent that such restriction may affect Business\\nAssociate’s Use or Disclosure of Protected Health Information.\\n\\n(iv) Covered Entity agrees to comply with all applicable state and federal privacy and\\nsecurity laws and regulations, including the HIPAA Rules. Covered Entity agrees to\\nobtain any patient authorizations or consents that may be required under state or\\n\\nExhibit C Business Associate Agreement -~ 17 -',\n",
       " \"EXHIBIT C\\nBUSINESS ASSOCIATE AGREEMENT\\n\\nfederal law or regulation in order to transmit Protected Health Information to\\nBusiness Associate and to enable Business Associate and its subcontractors to Use\\n\\nand Disclose Protected Health Information as contemplated by this BA Exhibit\\nand/or the PBM Services Agreement.\\n\\n(b) Permissible Requests by Covered Entity\\n\\nIn no event will Covered Entity require Business Associate to Use or Disclose Protected\\nHealth Information in any manner that would not be permissible under applicable laws\\nand rules, including the HIPAA Rules, if done by Covered Entity, except that Business\\nAssociate may use or disclose Protected Health Information for its proper management\\n\\nand administration, data aggregation, and other activities specifically permitted by this\\nBA Exhibit.\\n\\n5. Interpretation and Amendment of this Exhibit.\\n\\nAny regulatory reference in this BA Exhibit to a section of the HIPAA Rules will mean the section\\nas in effect or as amended. Any ambiguity or inconsistency in this BA Exhibit shall be interpreted\\nto permit compliance with the HIPAA Rules. This BA Exhibit supersedes any and all prior\\nrepresentations, understandings, or agreements, written or oral, concerning the HITECH Act and\\nHIPAA Rules, including conflicting provisions of the PBM Services Agreement. The Parties\\nhereto agree to negotiate in good faith to amend this BA Exhibit from time to time as is necessary\\nfor compliance with the requirements of HIPAA or any other applicable law and for Business\\nAssociate to provide services to Covered Entity. However, no change, amendment, or\\nmodification of this BA Exhibit shall be valid unless it is set forth in writing and signed by both\\nparties. In the event provisions of this BA Exhibit are different than those set forth in the HIPAA\\nRules, but are nonetheless permitted by the HIPAA Rules, the provisions of this BA Exhibit shall\\n\\ncontrol. Any ambiguity in this BA Exhibit shall be interpreted to permit the Parties to comply\\nwith the HIPAA Rules.\\n\\n6. No Third Party Rights.\\n\\nThe terms and conditions of this BA Exhibit are intended for the sole benefit of Business\\n\\nAssociate and Covered Entity and do not create any third party rights. The Parties agree that they\\nare independent contractors and not agents of each other.\\n\\n7. Term and Termination.\\n\\n(a) Term\\nExcept as otherwise provided herein, the term of this BA Exhibit shall coincide with the\\n\\nPBM Services Agreement and shall be terminable in accordance with the termination\\n\\nprovisions of the PBM Services Agreement, or the date either party terminates for cause,\\nas authorized in paragraph (b) of this Section, whichever is sooner.\\n\\n \\n\\n(b) Termination for Cause\\n\\nUpon a party's knowledge of a material breach of this BA Exhibit by the other, the non-\\n\\nbreaching party shall provide written notice to the breaching party and may terminate this\\nBA Exhibit if the breaching party does not cure the breach or end the violation within\\nthirty (30) days of receipt of such notice.\\n\\n(c) Effect of Termination\\n\\n(i) Except as provided below in Subsection 7(c)(ii) of this BA Exhibit, upon\\ntermination of this BA Exhibit, for any reason, Business Associate shall either\\nreturn or destroy all Protected Health Information received from Covered Entity,\\nor created or received by Business Associate on behalf of Covered Entity, that\\n\\nExhibit C Business Associate Agreement -~ 18 -\",\n",
       " 'EXHIBIT C\\nBUSINESS ASSOCIATE AGREEMENT\\n\\nBusiness Associate still maintains in any form. Business Associate shall retain no\\ncopies of the Protected Health Information.\\n\\n(ii) In the event that Business Associate determines that it needs to retain Protected\\nHealth Information in order to Use or Disclose Protected Health Information for its\\nown management and administration or to carry out its legal responsibilities,\\nBusiness Associate may retain such Protected Health Information. Upon\\ntermination of the PBM Services Agreement for any reason, Business Associate,\\nwith respect to Protected Health Information received from Covered Entity, or\\n\\ncreated, maintained, or received by Business Associate on behalf of Covered\\nEntity, shall:\\n\\n1. Retain only that Protected Health Information which is necessary for\\nBusiness Associate to continue its proper management and administration\\nor to carry out its legal responsibilities;\\n\\nReturn or destroy the remaining Protected Health Information that\\n\\nBusiness Associate still maintains in any form.\\n\\n3. Continue to use appropriate safeguards and comply with Subpart C of 45\\nCFR Part 164 with respect to electronic protected health information to\\nprevent use or disclosure of the protected health information, other than\\nas provided for in this Section, for as long as Business Associate retains\\nthe protected health information;\\n\\n4. Not use or disclose the protected health information retained by Business\\nAssociate other than for the purposes for which such protected health\\ninformation was retained and subject to the same conditions set forth in\\nSection 3 above which applied prior to termination; and\\n\\n5. Return to Covered Entity [or, if agreed to by Covered Entity, destroy] the\\nprotected health information retained by Business Associate when it is no\\n\\nlonger needed by business associate for its proper management and\\nadministration or to carry out its legal responsibilities.\\n\\nbo\\n\\nd. Survival.\\n\\nThe respective rights and obligations of Business Associate as set forth in this BA Exhibit\\nshall survive the termination of the PBM Services Agreement.\\n\\n8. Notices.\\n\\nIn addition to the notice provision set forth in the PBM Services Agreement, any notice required\\nby this BA Exhibit to be given or delivered shall be in writing and shall be deemed given or\\ndelivered if delivered in person, by electronic mail, or sent by courier or expedited delivery\\nservice, or sent by registered or certified mail, postage prepaid, return receipt requested, or sent by\\nfacsimile (if confirmed), to the Privacy Office address set forth below. Each party may change its\\naddress for purposes of this BA Exhibit by written notice to the other party.\\n\\n \\n\\n \\n\\nBusiness Associate Privacy Office: Covered Entity Privacy Office:\\n\\nName: Name: 3: Weer FE Ce Ne Sox\\nTitle: Chief Privacy Officer Title: CogZ GCoPrarce Ogeicet_\\nAddress: 1600 McConnor Parkway Address:\\n\\n \\n\\nSchaumburg, IL 60173\\n\\n \\n\\nEmail: HIPAA-inguiry@catamaranrx.com Email: OPrteTeaAs & Gus OFS\\n\\nExhibit C Business Associate Agreement ~ 19 -',\n",
       " 'EXHIBIT D\\nCREDIT POLICY\\n\\n \\n\\n \\n\\n4325 Executive Park Drive, Suite 100, Montgomery, Alabama 36116\\nPhone: 866-970-7500 * Fax: 334-956-7559 »\\n\\nNew Account Credit Application\\n\\n   \\n  \\n   \\n     \\n \\n \\n  \\n\\n \\n\\nMailing Address (cont.) :\\n\\nCity: Eve éAvifie State: S¢ Zip: J9e0 |\\n\\nDBA (ifany):\\n\\nYear Business Started:\\n\\nPhysical Office: [4-Owned Leased\\nLandlord or Leasing Company:\\n\\n \\n\\n \\n\\n \\n\\n \\n\\n \\n\\n \\n\\nMailing Address (if different): 30 c ©. Me Bec Ase Sk 302\\n\\n \\n\\n \\n \\n  \\n\\n \\n\\nPrincipal OfficerName: shy Rice «ESSN Email: bri ce ©. ofs¢\\n\\nHas the Principal Officer or the Client filed for Bankruptcy within the past 7 years? [] Yes [g}No _\\n\\n \\n\\n \\n\\n \\n\\n  \\n\\n \\n \\n\\nClient is:\\n\\n \\n\\n \\n\\n \\n\\n \\n\\n \\n \\n  \\n\\n \\n\\n \\n\\n \\n\\n \\n\\n \\n\\n \\n\\n \\n\\n \\n\\n \\n\\n \\n\\n \\n\\n \\n\\n \\n\\n \\n \\n  \\n\\n  \\n    \\n    \\n\\n \\n\\n \\n\\n \\n\\n \\n\\n \\n\\n \\n\\n \\n\\n \\n\\n \\n\\n \\n\\n \\n\\n \\n\\n \\n\\n \\n\\n \\n\\n \\n\\n \\n\\n \\n\\n \\n\\n \\n\\n \\n\\n \\n\\n \\n\\n \\n\\n \\n\\n \\n\\n \\n\\n \\n\\n \\n\\n \\n\\n \\n\\n \\n\\n \\n\\n \\n\\n \\n\\n \\n\\n \\n\\n \\n\\n \\n\\nTax ID#: Incorporated |_| Partnership |_} Single Proprietor |_| LLC\\n| Existing and Current Business References (Please list bank a three business references where credit ig currently extended) |\\nBank Reference: Reference #1:\\nBank Name: Address:\\nAddress: City: State: Zip:\\nCity: State: Zip: Phone: Fax:\\nPhone: Fax: eomact He\\n1, Contact: ” :\\nBank Account #:\\nReference #2: Reference #3:\\n:| Address: Address:\\n‘| City: State: Zip: | City: State: Zip:\\n| Phone: Fax: || Phone: Fax:\\n1) Contact: || Contact:\\n| Account #: Account #:\\n= 21 ae\\n\\nExhibit D Credit Policy',\n",
       " 'EXHIBIT D\\nCREDIT POLICY\\n\\nNew Account Credit Application (Continued)\\nThe undersigned hereby personally acknowledges, certifies, and warrants that:\\n\\n1. The information provided herein is provided for the purpose of obtaining Commercial Credit\\nInformation (including the attached WP Tax Identification and Principal’s Social Security\\nNumber). This information is warranted to be true, accurate and complete in all respects;\\n\\n2. Applicant warrants that it is not currently under the jurisdiction of a bankruptcy court;\\n\\n3x Applicant agrees that a cash deposit may be required in the event that the SeniorScript credit\\nverification process results in an unacceptable credit rating; and\\n\\n4, As owner, or Officer of Applicant, SeniorScript is hereby authorized to investigate all listed\\nreferences and obtain additional credit information from third parties (including, but not limited to\\n\\ncredit reporting agencies) for the purpose of verifying the information within this Credit\\nApplication.\\n\\nSignature and name of each Owner, Partner, Shareholder, Director, Officer, or Member of the Business:\\n\\n \\n\\nSignature: A Ll) Title: Contr le.\\nX¥ . Date: ——\\nPrinted Name: QA h. Bodee [8/30/22 i\\n\\nSignature: Title:\\n\\n \\n\\n \\n\\nDate:\\nPrinted Name:\\n\\n \\n\\n \\n\\n \\n\\n \\n\\n \\n\\n \\n\\n \\n\\n \\n\\n \\n\\n \\n\\n \\n\\n \\n\\n \\n\\n \\n\\nSignature: Title:\\nDate:\\nPrinted Name:\\nSignature: Title:\\nDate:\\nPrinted Name:\\nSignature: Title:\\nDate:\\nPrinted Name:\\n= 2 2 -\\n\\nExhibit D Credit Policy',\n",
       " 'CREDIT REFERENCES FOR GREENVILLE HOSPITAL SYSTEM\\n\\nHill Rom\\n\\nContact: Christi Gerdowsky\\n1069 State Rte. 46 East\\nBatesville, IN47006\\n\\nDirect: 812-931-3496\\n\\nFax: 812-934-8848\\n\\nVisual Graphics\\nContact: Barry Stanley\\n405 Airport Road\\nPhone: 864-233-2845\\n\\nFax; 864-232-1904\\n\\nOwens & Minor Augusta, Charlotte and Raleigh\\n\\nContact: Amy Staton\\n\\nArea Credit and Finance Manager\\n\\n4200 Global Street\\nRaleigh, NC 27610\\nPhone: 919-212-8509\\n\\nFax: 919-231-6352\\n\\nAmy.Staton@Owens-Minor.com\\n\\nJanPak Greenville\\n\\nContact; Kim Norton\\n\\n134 Leader Drive\\n\\nPiedmont, SC 29673-9488\\nPhone: 304-325-8160 ext 249\\nFax: 304-324-0430\\n\\nknorton@janpak.com\\n\\nXerox\\n\\nContact: Marcus Alexander\\nPhone: 336-707-7318\\n\\nFax: 336-427-7267\\n\\n4201 Congress St.\\n\\nCharlotte, NC 28209',\n",
       " \"Form ST-9 (Rav. 9/90) 5011\\n\\nSTATE OF SOUTH CAROLINA OT VALIO Wite\\nSOUTH CAROLINA TAX COMMISSION TO CONSTRUCTION\\n\\nCONTRACTORS, THEIR\\nSUB-CONTRACTORS, OR\\n\\n' THEIR MATERIAL SUPPLY\\nMEN. ,\\n\\n \\n \\n \\n  \\n \\n\\n \\n\\n     \\n \\n\\nThls certificate is issued in\\naccordance with Section 12-36-2120\\nof Article 21, Section 12-36-120 of\\nArticie 1, Section 12-36-2510 of Article\\n25 of Chapter 36 of Title 12, or Section\\n58-25-80 of Title 58 of the Code of\\nLaws of South Carolina 1976, as\\namended.\\n\\nGREENVILLE HOSPITAL SYSTEMS\\n701 GROVE RO\\nGREENVILLEs SC 29605\\n\\n \\n   \\n     \\n   \\n     \\n\\nCERTIFICATE ISSUED TO:\\nSREENVILLE HOSPITAL SYSTEM\\n701 GROVE RD\\n\\nGREENVILLE~s SC 29605\\n\\n7 OLD CERTIFICATE # 07460 CERTIFICATE NUMBER 1341897-002\\nDATE ISSUED: 06/02/92\\n\\nEXEMPTIONS:\\nNOTICE: 9\\n\\nTo find expianation of authority under which this certificate is issued, see schedule on reverse side. T\\n\\nnumbers in parentheses, which are a part of your certificate number, have reference to the specific type(s) of\\n\\nOF the aod granted b this pipe oneu . _ property | be coed toa toxable use, pemaity for payment\\ncom . in the even nature of your operation '\\n\\nnotify the Tax Commission immediately a this could affect the validity, of this ¢ certificate. ages; youssnauld\\n\\n \\n\\nSCHEDULE OF EXEMPTIONS UNGER SECTION 12-36-2120 of Articie 21\\n\\n( 7) Coal of coke of other tual sold to manufacturers, electric power companies and transportation companies tor:\\n(a) use or consumption in the production of by-products, .\\n(b) the generation of heat or power used in manutacturing tangible personal property for sale.\\n(c) the generation of electric power or energy for use in manulacturing tangible personal property for sale, or\\n(¢) the generation of motive power tor transportation. Far the purposes of this item, ‘manuiacturers’ of ‘manutacturing' includes the activities of mining and quarrying,\\n\\n! 9) Supplhes and machinery uzed by laundries, claaning, dyeing or pressing establishments in the diract performance of their primary functron, but not saies of supplies ¢\\nmachinery used by coin-operaied taunaromats:\\n\\n(11) Wrapping paper. wrapping twine, paper bags and containers, used incident to the sale and delivery of tangible personal property:\\n\\n(12) Electricity uted by manufacturers, miners, or Quarners to manufacture, mine, of Quarry tangible personal property tor sate:\\n\\n(13) Machines used ia menutectuning, processing. compounding, mining, or quarrying tangrble personal property for sale. “Machines” include the parts of machines. attacnma:\\nand reptacements used, or manufactured for use, on or in the oparation of the machines and which ere necasesry to the aperation at the machines end are cusiomarily so used. T\\nexempbon does not inchices sutomobiles of trucks.\\n\\n(26) Allsuppies, technical equipment, machinery and electricity sold to radio and television stations, and cable television systems, for use in producing, broadcasting, or distributs\\nprograms; . ot\\n\\n(35) Gasoline or other motor vehicie fuels taxed at the same rate as gasoline. fuel ethanol blends, as defined In Section 12-27-430/2}. and commarcial fishing vessels. Gasoline usec\\nurcratt 13 not exempted by this item;\\n\\n(36) Natural and lquified petrolaum gas used exclusively in the production of poultry:\\n(41) Petroteum sephalt products, commonty used in paving, purchased in this State, which are transported and consumed out of this:State;\\n\\n{45) Meals or toodatuffa provided to elderly or disabled persons at home by nonprofit organizations that receive only charitable contributions in addition to sale proceeds trom t\\nmeals.\\n\\n; ; EXCLUSIONS UNDER SECTION 12-36-120 of Articie 1\\n{17} Tangible personal property to emanulacturer or compounder as an ingredient or component part of the tangible personal property or products manufactured or compounded {\\nsale; .\\n- . '\\n(18) Tangible personal property to licensed retail merchants, jobbers, dealers, or wholesalers for resale, and do not include sales to users of consumers;\\nO{RECT PAY PERMIT UNDER SECTION 12-26-2510 of Article 25\\n{19} Notwithetanding other provisions of this chapter, when, in the opinion of the commission, the natura of a taxpayer's business rendars it impracticable tor tne taxpeyerto accou\\nfor the sales of use taxes. as Imposed by this chapter, at the tima of purchase. the commission may issue its certificate to the taxpayer authorizing the purchase at widiesale and t!\\nlampayer ts liable for the taxes imposed by this chapter with respect to the gross proceeds cf sale, or sales price, of the property withdrawn, used of consumed by the taxpayer with\\nthis State. ; tt a “3\\n. : ‘ CERTIFICATE UNDER SECTION 58-25-80 | . .\\n(50) Exempt from any state or local ad vatorem, Income, séies, fuel, excise, or other ute taxes of other taxes from which municipalities aiid counties are exempt.\",\n",
       " 'GREENVILLE | 7o\\\\Grove Road\\nHEALTH SYSTEM (864) 455-7000\\n\\nghs.org\\n\\n \\n\\nDear Bank of America Business Inquiries:\\n\\nOur vendor has the authorization to receive information for inquiries specific to the purchase of goods\\nor services requested by Greenville Health System.\\n\\nPlease feel free to contact me at 864-797-7613 if additional information is required.\\n\\nBest Regards.\\nDonna West\\n\\nAP Accountant']"
      ]
     },
     "execution_count": 17,
     "metadata": {},
     "output_type": "execute_result"
    }
   ],
   "source": [
    "final_text"
   ]
  }
 ],
 "metadata": {
  "kernelspec": {
   "display_name": "Python 3",
   "language": "python",
   "name": "python3"
  },
  "language_info": {
   "codemirror_mode": {
    "name": "ipython",
    "version": 3
   },
   "file_extension": ".py",
   "mimetype": "text/x-python",
   "name": "python",
   "nbconvert_exporter": "python",
   "pygments_lexer": "ipython3",
   "version": "3.7.4"
  }
 },
 "nbformat": 4,
 "nbformat_minor": 2
}
